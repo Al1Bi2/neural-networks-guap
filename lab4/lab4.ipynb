{
 "cells": [
  {
   "cell_type": "markdown",
   "id": "44c8ce60-8c5c-4b5f-a3e2-4688fe86e3e2",
   "metadata": {},
   "source": [
    "# Загрузка данных"
   ]
  },
  {
   "cell_type": "code",
   "execution_count": 3,
   "id": "initial_id",
   "metadata": {
    "ExecuteTime": {
     "end_time": "2024-12-16T21:36:02.524607Z",
     "start_time": "2024-12-16T21:36:02.492158Z"
    },
    "id": "initial_id"
   },
   "outputs": [],
   "source": [
    "import torch\n",
    "import torch.nn as nn\n",
    "import torch.nn.functional as F\n",
    "from torchvision.datasets import ImageFolder\n",
    "import torchvision.transforms as transforms\n",
    "from torchvision import models\n",
    "import matplotlib.pyplot as plt\n",
    "import numpy as np\n",
    "\n",
    "\n",
    "data_dir = 'flowers/'\n",
    "\n",
    "transform = transforms.Compose([\n",
    "    transforms.Resize((128, 128)),  # Изменение размера изображений\n",
    "    transforms.ToTensor(),         # Конвертация в тензор\n",
    "    transforms.ColorJitter(brightness=0.2, contrast=0.2, saturation=0.2, hue=0.1),\n",
    "    transforms.RandomRotation(10),\n",
    "    transforms.Normalize((0.5, 0.5, 0.5), (0.5, 0.5, 0.5))  # Нормализация\n",
    "])\n",
    "\n",
    "dataset = ImageFolder(root=data_dir, transform=transform)"
   ]
  },
  {
   "cell_type": "markdown",
   "id": "Mao8HtWT6dbE",
   "metadata": {
    "id": "Mao8HtWT6dbE"
   },
   "source": [
    "Загружаем изображения с помощью PyTorch. Нормализуем значения RGB в пикселях. Изоюражения приводим к размеру 128 на 128 пикселей. Случайно изменяем изображения для расширения датасета."
   ]
  },
  {
   "cell_type": "code",
   "execution_count": 4,
   "id": "767021d0b91a7fff",
   "metadata": {
    "ExecuteTime": {
     "end_time": "2024-12-16T21:36:02.530724Z",
     "start_time": "2024-12-16T21:36:02.524607Z"
    },
    "id": "767021d0b91a7fff",
    "outputId": "5e274afe-afc4-4e38-f652-33e5bda68725"
   },
   "outputs": [
    {
     "data": {
      "text/plain": [
       "['daisy', 'dandelion', 'rose', 'sunflower', 'tulip']"
      ]
     },
     "execution_count": 4,
     "metadata": {},
     "output_type": "execute_result"
    }
   ],
   "source": [
    "dataset.classes"
   ]
  },
  {
   "cell_type": "markdown",
   "id": "O7vnBepc7SNd",
   "metadata": {
    "id": "O7vnBepc7SNd"
   },
   "source": [
    "Данные корректно считались с метками классов. Всего классов 5."
   ]
  },
  {
   "cell_type": "code",
   "execution_count": 5,
   "id": "7a46486e5900a0b6",
   "metadata": {
    "ExecuteTime": {
     "end_time": "2024-12-16T21:36:02.537849Z",
     "start_time": "2024-12-16T21:36:02.530724Z"
    },
    "id": "7a46486e5900a0b6"
   },
   "outputs": [],
   "source": [
    "from torch.utils.data import random_split, DataLoader\n",
    "\n",
    "train_size = int(0.7 * len(dataset))  # 70% данных для тренировки\n",
    "val_size = int(0.2 * len(dataset))    # 20% данных для валидации\n",
    "test_size = len(dataset) - train_size - val_size  # Оставшиеся 10% для теста\n",
    "\n",
    "train_data, val_data, test_data = random_split(dataset, [train_size, val_size, test_size])\n",
    "\n",
    "batch_size = 32\n",
    "\n",
    "train_loader = DataLoader(train_data, batch_size=batch_size, shuffle=True)\n",
    "val_loader = DataLoader(val_data, batch_size=batch_size, shuffle=False)\n",
    "test_loader = DataLoader(test_data, batch_size=batch_size, shuffle=False)"
   ]
  },
  {
   "cell_type": "markdown",
   "id": "trzBmLif7ZGz",
   "metadata": {
    "id": "trzBmLif7ZGz"
   },
   "source": [
    "Разделяем данные на тренировочную, валидационную и тестовую выборки. Распределение получилось 70:20:10. Также данные будут обрабатываться батчами(пакетами), поэтому создаем loader'ы для каждой из выборок."
   ]
  },
  {
   "cell_type": "markdown",
   "id": "1b4ed91b-2b77-41f9-8765-67fa5ec28c30",
   "metadata": {},
   "source": [
    "## Свёрточная сеть"
   ]
  },
  {
   "cell_type": "code",
   "execution_count": null,
   "id": "9754c0de8817e717",
   "metadata": {
    "ExecuteTime": {
     "end_time": "2024-12-16T21:36:02.573384Z",
     "start_time": "2024-12-16T21:36:02.537849Z"
    },
    "id": "9754c0de8817e717",
    "outputId": "e92df0a8-f0f4-48e8-f616-be63771d0073",
    "scrolled": true
   },
   "outputs": [
    {
     "name": "stdout",
     "output_type": "stream",
     "text": [
      "----------------------------------------------------------------\n",
      "        Layer (type)               Output Shape         Param #\n",
      "================================================================\n",
      "            Conv2d-1         [-1, 32, 128, 128]             896\n",
      "              ReLU-2         [-1, 32, 128, 128]               0\n",
      "         MaxPool2d-3           [-1, 32, 64, 64]               0\n",
      "            Conv2d-4           [-1, 64, 64, 64]          18,496\n",
      "              ReLU-5           [-1, 64, 64, 64]               0\n",
      "         MaxPool2d-6           [-1, 64, 32, 32]               0\n",
      "            Conv2d-7          [-1, 128, 32, 32]          73,856\n",
      "              ReLU-8          [-1, 128, 32, 32]               0\n",
      "         MaxPool2d-9          [-1, 128, 16, 16]               0\n",
      "           Conv2d-10          [-1, 256, 16, 16]         295,168\n",
      "             ReLU-11          [-1, 256, 16, 16]               0\n",
      "        MaxPool2d-12            [-1, 256, 8, 8]               0\n",
      "           Linear-13                  [-1, 256]       4,194,560\n",
      "          Dropout-14                  [-1, 256]               0\n",
      "           Linear-15                    [-1, 5]           1,285\n",
      "================================================================\n",
      "Total params: 4,584,261\n",
      "Trainable params: 4,584,261\n",
      "Non-trainable params: 0\n",
      "----------------------------------------------------------------\n",
      "Input size (MB): 0.19\n",
      "Forward/backward pass size (MB): 16.88\n",
      "Params size (MB): 17.49\n",
      "Estimated Total Size (MB): 34.55\n",
      "----------------------------------------------------------------\n"
     ]
    }
   ],
   "source": [
    "from torchsummary import summary\n",
    "class CNN(nn.Module):\n",
    "    def __init__(self, num_classes):\n",
    "        super(CNN, self).__init__()\n",
    "\n",
    "        # Сверточные слои\n",
    "        self.conv1 = nn.Conv2d(3, 32, kernel_size=3, padding=1)\n",
    "        #self.conv11 = nn.Conv2d(32, 32, kernel_size=3, padding=1)\n",
    "        self.conv2 = nn.Conv2d(32, 64, kernel_size=3, padding=1)\n",
    "        #self.conv22 = nn.Conv2d(64, 64, kernel_size=5, padding=2)\n",
    "        self.conv3 = nn.Conv2d(64, 128, kernel_size=3, padding=1)\n",
    "        #self.conv33 = nn.Conv2d(128, 128, kernel_size=5, padding=2)\n",
    "        self.conv4 = nn.Conv2d(128, 256, kernel_size=3, padding=1)\n",
    "        #self.conv44 = nn.Conv2d(256, 256, kernel_size=5, padding=2)\n",
    "        self.conv5 = nn.Conv2d(256, 512, kernel_size=3, padding=1)\n",
    "        self.conv6 = nn.Conv2d(512, 1024, kernel_size=3, padding=1)\n",
    "        self.conv7 = nn.Conv2d(1024, 2048, kernel_size=3, padding=1)\n",
    "        self.pool = nn.MaxPool2d(2, 2)\n",
    "        self.relu = nn.ReLU()\n",
    "        # Полносвязные слои\n",
    "        self.fc1 = nn.Linear(256 * 8 * 8, 256)\n",
    "        self.fc2 = nn.Linear(256, num_classes)\n",
    "\n",
    "        # Dropout\n",
    "        self.dropout = nn.Dropout(0.5)\n",
    "\n",
    "    def forward(self, x):\n",
    "        x = self.conv1(x)\n",
    "        x = self.relu(x)\n",
    "        x = self.pool(x)\n",
    "\n",
    "        x = self.conv2(x)\n",
    "        x = self.relu(x)\n",
    "        x = self.pool(x)\n",
    "\n",
    "        x = self.conv3(x)\n",
    "        x = self.relu(x)\n",
    "        x = self.pool(x)\n",
    "\n",
    "        x = self.conv4(x)\n",
    "        x = self.relu(x)\n",
    "        x = self.pool(x)\n",
    "\n",
    "\n",
    "\n",
    "        x = x.view(-1, 256 * 8 * 8)\n",
    "        x = self.dropout(F.relu(self.fc1(x)))\n",
    "        x = self.fc2(x)\n",
    "        return x\n",
    "\n",
    "num_classes = 5\n",
    "model = CNN(num_classes)\n",
    "\n",
    "summary(model,(3,128,128))\n",
    "criterion = nn.CrossEntropyLoss()\n",
    "optimizer = torch.optim.Adam(model.parameters(), lr=0.0005, weight_decay=1e-4)\n"
   ]
  },
  {
   "cell_type": "markdown",
   "id": "R3yWpEQf74XM",
   "metadata": {
    "id": "R3yWpEQf74XM"
   },
   "source": [
    "Строим Свёрточную Нейронную сеть. Она состоит из чередования 4 сверточных слоёв и 4 слоёв субдискретизации. Далее данные преобразуются в вектор длины 256, проходят через слой регуляризации для предотвращения переобучения. Последний полносвязный слой выводит вероятности для 5 классов.\n",
    "\n",
    "В качестве функции потерь используется перекрестная энтропия. В качестве оптимизатора используется Adam со скоростью обучения lr=0.0005 и параметром L2-регуляризации weight_decay=1e-4"
   ]
  },
  {
   "cell_type": "code",
   "execution_count": null,
   "id": "64cc7345c6e900f5",
   "metadata": {
    "ExecuteTime": {
     "end_time": "2024-12-16T22:09:54.218666Z",
     "start_time": "2024-12-16T21:36:02.573384Z"
    },
    "id": "64cc7345c6e900f5",
    "outputId": "02768ee8-8fb5-4b18-f166-f3d7ea4255c6"
   },
   "outputs": [
    {
     "name": "stdout",
     "output_type": "stream",
     "text": [
      "Epoch 1/50, Train Loss: 3.7655 Val Loss: 1.1796, Val Accuracy: 49.83%\n",
      "Epoch 2/50, Train Loss: 1.6600 Val Loss: 1.0827, Val Accuracy: 57.24%\n",
      "Epoch 3/50, Train Loss: 1.5441 Val Loss: 1.0149, Val Accuracy: 60.95%\n",
      "Epoch 4/50, Train Loss: 1.4361 Val Loss: 1.0207, Val Accuracy: 58.75%\n",
      "Epoch 5/50, Train Loss: 1.3925 Val Loss: 0.9794, Val Accuracy: 61.99%\n",
      "Epoch 6/50, Train Loss: 1.3556 Val Loss: 0.9180, Val Accuracy: 63.85%\n",
      "Epoch 7/50, Train Loss: 1.3081 Val Loss: 0.8897, Val Accuracy: 64.77%\n",
      "Epoch 8/50, Train Loss: 1.2605 Val Loss: 0.9050, Val Accuracy: 63.04%\n",
      "Epoch 9/50, Train Loss: 1.2485 Val Loss: 0.8724, Val Accuracy: 64.66%\n",
      "Epoch 10/50, Train Loss: 1.2381 Val Loss: 0.8998, Val Accuracy: 63.73%\n",
      "Epoch 11/50, Train Loss: 1.2076 Val Loss: 0.8733, Val Accuracy: 64.08%\n",
      "Epoch 12/50, Train Loss: 1.1971 Val Loss: 0.8475, Val Accuracy: 66.63%\n",
      "Epoch 13/50, Train Loss: 1.1693 Val Loss: 0.8148, Val Accuracy: 67.44%\n",
      "Epoch 14/50, Train Loss: 1.1170 Val Loss: 0.8372, Val Accuracy: 68.13%\n",
      "Epoch 15/50, Train Loss: 1.1490 Val Loss: 0.8021, Val Accuracy: 68.83%\n",
      "Epoch 16/50, Train Loss: 1.1189 Val Loss: 0.7880, Val Accuracy: 70.22%\n",
      "Epoch 17/50, Train Loss: 1.0956 Val Loss: 0.8006, Val Accuracy: 68.25%\n",
      "Epoch 18/50, Train Loss: 1.0771 Val Loss: 0.7937, Val Accuracy: 66.86%\n",
      "Epoch 19/50, Train Loss: 1.0585 Val Loss: 0.7734, Val Accuracy: 70.10%\n",
      "Epoch 20/50, Train Loss: 1.0193 Val Loss: 0.7878, Val Accuracy: 69.18%\n",
      "Epoch 21/50, Train Loss: 1.0190 Val Loss: 0.8125, Val Accuracy: 68.02%\n",
      "Epoch 22/50, Train Loss: 1.0302 Val Loss: 0.8052, Val Accuracy: 71.38%\n",
      "Epoch 23/50, Train Loss: 0.9737 Val Loss: 0.7760, Val Accuracy: 70.22%\n",
      "Epoch 24/50, Train Loss: 0.9831 Val Loss: 0.7491, Val Accuracy: 72.77%\n",
      "Epoch 25/50, Train Loss: 0.9711 Val Loss: 0.7603, Val Accuracy: 73.35%\n",
      "Epoch 26/50, Train Loss: 0.9562 Val Loss: 0.7586, Val Accuracy: 71.03%\n",
      "Epoch 27/50, Train Loss: 0.9489 Val Loss: 0.7717, Val Accuracy: 72.19%\n",
      "Epoch 28/50, Train Loss: 0.9329 Val Loss: 0.7606, Val Accuracy: 73.23%\n",
      "Epoch 29/50, Train Loss: 0.9224 Val Loss: 0.7365, Val Accuracy: 72.54%\n",
      "Epoch 30/50, Train Loss: 0.9155 Val Loss: 0.8099, Val Accuracy: 70.68%\n",
      "Epoch 31/50, Train Loss: 0.9062 Val Loss: 0.7679, Val Accuracy: 71.73%\n",
      "Epoch 32/50, Train Loss: 0.8884 Val Loss: 0.7660, Val Accuracy: 70.92%\n",
      "Epoch 33/50, Train Loss: 0.8630 Val Loss: 0.7792, Val Accuracy: 71.61%\n",
      "Epoch 34/50, Train Loss: 0.8565 Val Loss: 0.8182, Val Accuracy: 71.61%\n",
      "Epoch 35/50, Train Loss: 0.8555 Val Loss: 0.7846, Val Accuracy: 71.49%\n",
      "Epoch 36/50, Train Loss: 0.8584 Val Loss: 0.7972, Val Accuracy: 73.00%\n",
      "Epoch 37/50, Train Loss: 0.8345 Val Loss: 0.8123, Val Accuracy: 74.16%\n",
      "Epoch 38/50, Train Loss: 0.8363 Val Loss: 0.8230, Val Accuracy: 73.46%\n",
      "Epoch 39/50, Train Loss: 0.8037 Val Loss: 0.8013, Val Accuracy: 72.42%\n",
      "Epoch 40/50, Train Loss: 0.8105 Val Loss: 0.8109, Val Accuracy: 71.96%\n",
      "Epoch 41/50, Train Loss: 0.7906 Val Loss: 0.8780, Val Accuracy: 70.57%\n"
     ]
    }
   ],
   "source": [
    "\n",
    "device = torch.device(\"cuda\" if torch.cuda.is_available() else \"cpu\")\n",
    "model = model.to(device)\n",
    "\n",
    "num_epochs = 50\n",
    "l1_lambda = 1e-4\n",
    "train_losses, val_losses, train_accuracies, val_accuracies = [], [], [], []\n",
    "\n",
    "for epoch in range(num_epochs):\n",
    "    # Обучение\n",
    "    model.train()\n",
    "    running_loss = 0.0\n",
    "\n",
    "    for inputs, labels in train_loader:\n",
    "        inputs, labels = inputs.to(device), labels.to(device)\n",
    "\n",
    "        optimizer.zero_grad()\n",
    "        outputs = model(inputs)\n",
    "        loss = criterion(outputs, labels)\n",
    "        l1_loss = 0.0\n",
    "        for param in model.parameters():\n",
    "            l1_loss += torch.norm(param, p=1)  # L1 norm\n",
    "\n",
    "        loss += l1_lambda * l1_loss\n",
    "\n",
    "        loss.backward()\n",
    "        optimizer.step()\n",
    "\n",
    "        running_loss += loss.item()\n",
    "\n",
    "    train_losses.append(running_loss / len(train_loader))\n",
    "\n",
    "    # Валидация\n",
    "    model.eval()\n",
    "    val_loss = 0.0\n",
    "    correct = 0\n",
    "    total = 0\n",
    "\n",
    "    with torch.no_grad():\n",
    "        for inputs, labels in val_loader:\n",
    "            inputs, labels = inputs.to(device), labels.to(device)\n",
    "            outputs = model(inputs)\n",
    "            loss = criterion(outputs, labels)\n",
    "            val_loss += loss.item()\n",
    "\n",
    "            _, predicted = torch.max(outputs, 1)\n",
    "            total += labels.size(0)\n",
    "            correct += (predicted == labels).sum().item()\n",
    "\n",
    "    val_losses.append(val_loss / len(val_loader))\n",
    "    val_accuracies.append(100 * correct / total)\n",
    "\n",
    "\n",
    "\n",
    "\n",
    "    print(f\"Epoch {epoch+1}/{num_epochs}, Train Loss: {train_losses[-1]:.4f} \"\n",
    "          f\"Val Loss: {val_losses[-1]:.4f}, Val Accuracy: {val_accuracies[-1]:.2f}%\")\n",
    "\n",
    "\n"
   ]
  },
  {
   "cell_type": "code",
   "execution_count": null,
   "id": "782161f881df8fef",
   "metadata": {
    "ExecuteTime": {
     "end_time": "2024-12-16T22:09:54.762930Z",
     "start_time": "2024-12-16T22:09:54.218666Z"
    },
    "id": "782161f881df8fef",
    "outputId": "84a18d3b-151e-4e5a-b310-3453bb1a784b"
   },
   "outputs": [
    {
     "data": {
      "image/png": "[encoded data removed]",
      "text/plain": [
       "<Figure size 1200x500 with 2 Axes>"
      ]
     },
     "metadata": {},
     "output_type": "display_data"
    }
   ],
   "source": [
    "plt.figure(figsize=(12, 5))\n",
    "\n",
    "# График потерь\n",
    "plt.subplot(1, 2, 1)\n",
    "plt.plot(train_losses, label=\"Train Loss\")\n",
    "plt.plot(val_losses, label=\"Validation Loss\")\n",
    "plt.xlabel(\"Epoch\")\n",
    "plt.ylabel(\"Loss\")\n",
    "plt.title(\"Training and Validation Loss\")\n",
    "plt.legend()\n",
    "\n",
    "# График точности\n",
    "plt.subplot(1, 2, 2)\n",
    "plt.plot(val_accuracies, label=\"Validation Accuracy\")\n",
    "\n",
    "plt.xlabel(\"Epoch\")\n",
    "plt.ylabel(\"Accuracy (%)\")\n",
    "plt.title(\"Validation Accuracy\")\n",
    "plt.legend()\n",
    "\n",
    "plt.show()"
   ]
  },
  {
   "cell_type": "code",
   "execution_count": null,
   "id": "bb02a71f9d937ce1",
   "metadata": {
    "ExecuteTime": {
     "end_time": "2024-12-16T22:10:15.618903Z",
     "start_time": "2024-12-16T22:09:54.762930Z"
    },
    "id": "bb02a71f9d937ce1",
    "outputId": "841cae3b-43cd-40c2-e76a-9cef50147380"
   },
   "outputs": [
    {
     "name": "stdout",
     "output_type": "stream",
     "text": [
      "Test Loss: 1.0372, Test Accuracy: 66.97%\n"
     ]
    }
   ],
   "source": [
    "model.eval()\n",
    "test_loss = 0.0\n",
    "correct = 0\n",
    "total = 0\n",
    "\n",
    "with torch.no_grad():\n",
    "    for inputs, labels in test_loader:\n",
    "        inputs, labels = inputs.to(device), labels.to(device)\n",
    "        outputs = model(inputs)\n",
    "        loss = criterion(outputs, labels)\n",
    "        test_loss += loss.item()\n",
    "\n",
    "        _, predicted = torch.max(outputs, 1)\n",
    "        total += labels.size(0)\n",
    "        correct += (predicted == labels).sum().item()\n",
    "\n",
    "test_accuracy = 100 * correct / total\n",
    "print(f\"Test Loss: {test_loss / len(test_loader):.4f}, Test Accuracy: {test_accuracy:.2f}%\")\n"
   ]
  },
  {
   "cell_type": "markdown",
   "id": "vD9aGexoB4K5",
   "metadata": {
    "id": "vD9aGexoB4K5"
   },
   "source": [
    "По результатам видно, что при обучении функция потерь постепенно снижается для тренировончной выборки и для валидационной, но для валидационной снижение очень медленное.\n",
    "Accuracy на валидационной выборке постепенно увеличивается, но где-то к 30 эпохе развитие почти не растет.\n",
    "\n",
    "На тестовой выборке Accuracy: 66.97%, что в целом приемлевый результат, но ещё есть что улучшать."
   ]
  },
  {
   "cell_type": "code",
   "execution_count": null,
   "id": "8e435501c3e5deb1",
   "metadata": {
    "ExecuteTime": {
     "end_time": "2024-12-16T22:10:50.429565Z",
     "start_time": "2024-12-16T22:10:50.384627Z"
    },
    "id": "8e435501c3e5deb1"
   },
   "outputs": [],
   "source": [
    "torch.save(model.state_dict(), \"flower_cnn.pth\")"
   ]
  },
  {
   "cell_type": "markdown",
   "id": "df68385f-0f58-449a-bb84-d74299b8e1a3",
   "metadata": {},
   "source": [
    "Сохраняем модель"
   ]
  },
  {
   "cell_type": "markdown",
   "id": "5bff874f-8c2b-4bd4-85f8-5c1db5191ffb",
   "metadata": {},
   "source": [
    "# Полносвязная с предуобучением"
   ]
  },
  {
   "cell_type": "markdown",
   "id": "c9341e23-5d89-4d7d-b007-ea0430223a64",
   "metadata": {},
   "source": [
    "### Автоэнкодер"
   ]
  },
  {
   "cell_type": "code",
   "execution_count": 11,
   "id": "68d999198c89da7e",
   "metadata": {
    "id": "68d999198c89da7e",
    "outputId": "b8c44096-5589-4cc4-e8b1-7cc610cf52a9"
   },
   "outputs": [
    {
     "name": "stdout",
     "output_type": "stream",
     "text": [
      "----------------------------------------------------------------\n",
      "        Layer (type)               Output Shape         Param #\n",
      "================================================================\n",
      "           Flatten-1                [-1, 49152]               0\n",
      "            Linear-2                 [-1, 1024]      50,332,672\n",
      "              ReLU-3                 [-1, 1024]               0\n",
      "            Linear-4                  [-1, 256]         262,400\n",
      "            Linear-5                 [-1, 1024]         263,168\n",
      "              ReLU-6                 [-1, 1024]               0\n",
      "            Linear-7                [-1, 49152]      50,380,800\n",
      "              Tanh-8                [-1, 49152]               0\n",
      "================================================================\n",
      "Total params: 101,239,040\n",
      "Trainable params: 101,239,040\n",
      "Non-trainable params: 0\n",
      "----------------------------------------------------------------\n",
      "Input size (MB): 0.19\n",
      "Forward/backward pass size (MB): 1.16\n",
      "Params size (MB): 386.20\n",
      "Estimated Total Size (MB): 387.54\n",
      "----------------------------------------------------------------\n"
     ]
    }
   ],
   "source": [
    "from torchsummary import summary\n",
    "# Определение автокодировщика\n",
    "class Autoencoder(nn.Module):\n",
    "    def __init__(self):\n",
    "        super(Autoencoder, self).__init__()\n",
    "        # Кодировщик\n",
    "        self.encoder = nn.Sequential(\n",
    "            nn.Flatten(),\n",
    "            nn.Linear(128 * 128 * 3, 1024),\n",
    "            nn.ReLU(True),\n",
    "            nn.Linear(1024, 256),\n",
    "        )\n",
    "        # Декодировщик\n",
    "        self.decoder = nn.Sequential(\n",
    "\n",
    "            nn.Linear(256, 1024),\n",
    "            nn.ReLU(True),\n",
    "            nn.Linear(1024, 128 * 128 * 3),\n",
    "            nn.Tanh()\n",
    "        )\n",
    "\n",
    "    def forward(self, x):\n",
    "        x = self.encoder(x)\n",
    "        x = self.decoder(x)\n",
    "        return x\n",
    "\n",
    "# Инициализация модели\n",
    "autoencoder = Autoencoder()\n",
    "summary(autoencoder,(3,128,128))\n",
    "# Оптимизатор и функция потерь\n",
    "optimizer = torch.optim.Adam(autoencoder.parameters(), lr=1e-4, weight_decay=1e-5)\n",
    "criterion = nn.MSELoss()\n"
   ]
  },
  {
   "cell_type": "markdown",
   "id": "16719661-f586-4102-8a27-e206870b0624",
   "metadata": {},
   "source": [
    "Соаздаем сеть - автоэнкодер. Он сотоит из трёх слоёв энкодера, \"сжимающего\" данные с размера картинки до 16 нейроной и обратного декодера."
   ]
  },
  {
   "cell_type": "code",
   "execution_count": 12,
   "id": "5eb8c7c2-8c81-40d0-8d0f-a5293fa5e934",
   "metadata": {
    "id": "5eb8c7c2-8c81-40d0-8d0f-a5293fa5e934",
    "outputId": "f461f60c-6b71-43da-e050-6badfb631bfc"
   },
   "outputs": [
    {
     "name": "stdout",
     "output_type": "stream",
     "text": [
      "Epoch [1/10], Loss: 0.1836\n",
      "Epoch [2/10], Loss: 0.1839\n",
      "Epoch [3/10], Loss: 0.1296\n",
      "Epoch [4/10], Loss: 0.1173\n",
      "Epoch [5/10], Loss: 0.1207\n",
      "Epoch [6/10], Loss: 0.1067\n",
      "Epoch [7/10], Loss: 0.1056\n",
      "Epoch [8/10], Loss: 0.1075\n",
      "Epoch [9/10], Loss: 0.1176\n",
      "Epoch [10/10], Loss: 0.0841\n"
     ]
    }
   ],
   "source": [
    "num_epochs = 10\n",
    "for epoch in range(num_epochs):\n",
    "    for data in train_loader:\n",
    "        img, _ = data\n",
    "        img = img.view(img.size(0), -1)  # Разворачиваем изображения\n",
    "        output = autoencoder(img)\n",
    "        loss = criterion(output, img)\n",
    "\n",
    "        optimizer.zero_grad()\n",
    "        loss.backward()\n",
    "        optimizer.step()\n",
    "\n",
    "    print(f'Epoch [{epoch+1}/{num_epochs}], Loss: {loss.item():.4f}')"
   ]
  },
  {
   "cell_type": "markdown",
   "id": "f7a532b8-6da7-4f00-b50b-8fc836655345",
   "metadata": {},
   "source": [
    "Автоэнкедор обучился с 0.18 до 0.08. Результат есть, но не самый лучший"
   ]
  },
  {
   "cell_type": "code",
   "execution_count": 14,
   "id": "4365d40a-b1c4-48f6-b490-988165db8766",
   "metadata": {},
   "outputs": [],
   "source": [
    "for param in autoencoder.parameters():\n",
    "    param.requires_grad = False"
   ]
  },
  {
   "cell_type": "markdown",
   "id": "c1c14d6e-d6c4-4413-bcd7-ad5f6c4f238e",
   "metadata": {},
   "source": [
    "### Полносвязная сеть"
   ]
  },
  {
   "cell_type": "code",
   "execution_count": 16,
   "id": "0a344217-3bb6-45cd-82c4-6966a5e2aa0f",
   "metadata": {
    "id": "0a344217-3bb6-45cd-82c4-6966a5e2aa0f"
   },
   "outputs": [
    {
     "name": "stdout",
     "output_type": "stream",
     "text": [
      "----------------------------------------------------------------\n",
      "        Layer (type)               Output Shape         Param #\n",
      "================================================================\n",
      "           Flatten-1                [-1, 49152]               0\n",
      "            Linear-2                 [-1, 1024]      50,332,672\n",
      "              ReLU-3                 [-1, 1024]               0\n",
      "            Linear-4                  [-1, 256]         262,400\n",
      "            Linear-5                  [-1, 128]          32,896\n",
      "              ReLU-6                  [-1, 128]               0\n",
      "           Dropout-7                  [-1, 128]               0\n",
      "            Linear-8                    [-1, 5]             645\n",
      "        LogSoftmax-9                    [-1, 5]               0\n",
      "================================================================\n",
      "Total params: 50,628,613\n",
      "Trainable params: 33,541\n",
      "Non-trainable params: 50,595,072\n",
      "----------------------------------------------------------------\n",
      "Input size (MB): 0.19\n",
      "Forward/backward pass size (MB): 0.40\n",
      "Params size (MB): 193.13\n",
      "Estimated Total Size (MB): 193.72\n",
      "----------------------------------------------------------------\n"
     ]
    }
   ],
   "source": [
    "class FlowerClassifier(nn.Module):\n",
    "    def __init__(self, pretrained_encoder):\n",
    "        super(FlowerClassifier, self).__init__()\n",
    "        self.encoder = pretrained_encoder  # Загружаем кодировщик\n",
    "        self.classifier = nn.Sequential(\n",
    "            nn.Linear(256, 128),  # Используем выход из кодировщика\n",
    "            nn.ReLU(),\n",
    "            nn.Dropout(0.5),\n",
    "            nn.Linear(128, 5),  # 5 классов\n",
    "            nn.LogSoftmax(dim=1)\n",
    "        )\n",
    "\n",
    "    def forward(self, x):\n",
    "        x = x.view(x.size(0), -1)  # Разворачиваем изображения\n",
    "        x = self.encoder(x)        # Используем кодировщик\n",
    "        x = self.classifier(x)\n",
    "        return x\n",
    "\n",
    "# Инициализация классификатора с предобученным кодировщиком\n",
    "classifier = FlowerClassifier(autoencoder.encoder)\n",
    "summary(classifier,(3,128,128))\n",
    "optimizer = torch.optim.Adam(classifier.parameters(), lr=1e-4,weight_decay=1e-5)\n",
    "criterion = nn.CrossEntropyLoss()\n",
    "fn_l1_lambda = 1e-4"
   ]
  },
  {
   "cell_type": "code",
   "execution_count": 18,
   "id": "26e8661a-bf0a-4235-8ece-8e2b90426c01",
   "metadata": {
    "id": "26e8661a-bf0a-4235-8ece-8e2b90426c01",
    "outputId": "9331ab4b-f7f8-4a0e-ee7e-d58a9706ff6b"
   },
   "outputs": [
    {
     "name": "stdout",
     "output_type": "stream",
     "text": [
      "Epoch [1/20], Train Loss: 11.5026, Val Loss: 1.5229, Val Accuracy: 29.78%\n",
      "Epoch [2/20], Train Loss: 11.3895, Val Loss: 1.4678, Val Accuracy: 35.69%\n",
      "Epoch [3/20], Train Loss: 11.3398, Val Loss: 1.4252, Val Accuracy: 36.38%\n",
      "Epoch [4/20], Train Loss: 11.2930, Val Loss: 1.4011, Val Accuracy: 38.12%\n",
      "Epoch [5/20], Train Loss: 11.2736, Val Loss: 1.3795, Val Accuracy: 40.67%\n",
      "Epoch [6/20], Train Loss: 11.2612, Val Loss: 1.3784, Val Accuracy: 39.75%\n",
      "Epoch [7/20], Train Loss: 11.2430, Val Loss: 1.3624, Val Accuracy: 41.83%\n",
      "Epoch [8/20], Train Loss: 11.2222, Val Loss: 1.3423, Val Accuracy: 42.18%\n",
      "Epoch [9/20], Train Loss: 11.2114, Val Loss: 1.3524, Val Accuracy: 41.48%\n",
      "Epoch [10/20], Train Loss: 11.2020, Val Loss: 1.3342, Val Accuracy: 41.02%\n",
      "Epoch [11/20], Train Loss: 11.1994, Val Loss: 1.3261, Val Accuracy: 44.15%\n",
      "Epoch [12/20], Train Loss: 11.1897, Val Loss: 1.3279, Val Accuracy: 44.38%\n",
      "Epoch [13/20], Train Loss: 11.1809, Val Loss: 1.3060, Val Accuracy: 45.31%\n",
      "Epoch [14/20], Train Loss: 11.1728, Val Loss: 1.3213, Val Accuracy: 44.03%\n",
      "Epoch [15/20], Train Loss: 11.1690, Val Loss: 1.3021, Val Accuracy: 44.26%\n",
      "Epoch [16/20], Train Loss: 11.1488, Val Loss: 1.2972, Val Accuracy: 43.57%\n",
      "Epoch [17/20], Train Loss: 11.1566, Val Loss: 1.3107, Val Accuracy: 44.15%\n",
      "Epoch [18/20], Train Loss: 11.1548, Val Loss: 1.3120, Val Accuracy: 43.45%\n",
      "Epoch [19/20], Train Loss: 11.1413, Val Loss: 1.2897, Val Accuracy: 46.81%\n",
      "Epoch [20/20], Train Loss: 11.1445, Val Loss: 1.2960, Val Accuracy: 43.92%\n"
     ]
    }
   ],
   "source": [
    "num_epochs = 20\n",
    "fn_train_losses, fn_val_losses, fn_train_accuracies, fn_val_accuracies = [], [], [], []\n",
    "for epoch in range(num_epochs):\n",
    "    classifier.train()\n",
    "    train_loss = 0\n",
    "\n",
    "    for data in train_loader:\n",
    "        images, labels = data\n",
    "        outputs = classifier(images)\n",
    "        loss = criterion(outputs, labels)\n",
    "\n",
    "        l1_loss = 0.0\n",
    "        for param in classifier.parameters():\n",
    "            l1_loss += torch.norm(param, p=1)  # L1 norm\n",
    "\n",
    "        loss += fn_l1_lambda * l1_loss\n",
    "        optimizer.zero_grad()\n",
    "        loss.backward()\n",
    "        optimizer.step()\n",
    "\n",
    "        train_loss += loss.item()\n",
    "\n",
    "\n",
    "    fn_train_losses.append(train_loss / len(train_loader))\n",
    "    # Валидация\n",
    "    classifier.eval()\n",
    "    val_loss = 0\n",
    "    correct = 0\n",
    "    total = 0\n",
    "    with torch.no_grad():\n",
    "        for data in val_loader:\n",
    "            images, labels = data\n",
    "            outputs = classifier(images)\n",
    "            loss = criterion(outputs, labels)\n",
    "            val_loss += loss.item()\n",
    "\n",
    "            _, predicted = torch.max(outputs.data, 1)\n",
    "            total += labels.size(0)\n",
    "            correct += (predicted == labels).sum().item()\n",
    "    fn_val_losses.append(val_loss / len(val_loader))\n",
    "    fn_val_accuracies.append(100 * correct / total)\n",
    "\n",
    "    print(f'Epoch [{epoch+1}/{num_epochs}], '\n",
    "          f'Train Loss: {train_loss/len(train_loader):.4f}, '\n",
    "          f'Val Loss: {val_loss/len(val_loader):.4f}, '\n",
    "          f'Val Accuracy: {100 * correct / total:.2f}%')\n"
   ]
  },
  {
   "cell_type": "markdown",
   "id": "8a420061-f655-444b-bcf8-48899e9411b5",
   "metadata": {},
   "source": [
    "На первых поколениях происходит прогресс по всем показателям, но с 8 поколения начинают расти потери, а accuracy остаётся на том же уровне"
   ]
  },
  {
   "cell_type": "code",
   "execution_count": 19,
   "id": "007e2583-1e35-495c-9e6c-fe63afce5f69",
   "metadata": {
    "id": "007e2583-1e35-495c-9e6c-fe63afce5f69",
    "outputId": "09d13091-4666-4b51-cd67-8093cb1cfa7f"
   },
   "outputs": [
    {
     "data": {
      "image/png": "[encoded data removed]",
      "text/plain": [
       "<Figure size 1200x500 with 2 Axes>"
      ]
     },
     "metadata": {},
     "output_type": "display_data"
    }
   ],
   "source": [
    "plt.figure(figsize=(12, 5))\n",
    "\n",
    "# График потерь\n",
    "plt.subplot(1, 2, 1)\n",
    "plt.plot(fn_train_losses, label=\"Train Loss\")\n",
    "plt.plot(fn_val_losses, label=\"Validation Loss\")\n",
    "plt.xlabel(\"Epoch\")\n",
    "plt.ylabel(\"Loss\")\n",
    "plt.title(\"Training and Validation Loss\")\n",
    "plt.legend()\n",
    "\n",
    "# График точности\n",
    "plt.subplot(1, 2, 2)\n",
    "plt.plot(fn_val_accuracies, label=\"Validation Accuracy\")\n",
    "\n",
    "plt.xlabel(\"Epoch\")\n",
    "plt.ylabel(\"Accuracy (%)\")\n",
    "plt.title(\"Validation Accuracy\")\n",
    "plt.legend()\n",
    "\n",
    "plt.show()"
   ]
  },
  {
   "cell_type": "markdown",
   "id": "58cecd17-02e1-488d-814d-79b58f2e2657",
   "metadata": {},
   "source": [
    "Обучения не происходит, но точность классификации низкая"
   ]
  },
  {
   "cell_type": "code",
   "execution_count": 20,
   "id": "61723ba0-c493-4887-bbbd-5f6e5477987b",
   "metadata": {
    "id": "61723ba0-c493-4887-bbbd-5f6e5477987b",
    "outputId": "e7d99496-e899-49cd-b2e0-3a2868d37cc5"
   },
   "outputs": [
    {
     "name": "stdout",
     "output_type": "stream",
     "text": [
      "Test Accuracy: 45.73%\n"
     ]
    }
   ],
   "source": [
    "classifier.eval()\n",
    "correct = 0\n",
    "total = 0\n",
    "with torch.no_grad():\n",
    "    for data in test_loader:\n",
    "        images, labels = data\n",
    "        outputs = classifier(images)\n",
    "        _, predicted = torch.max(outputs.data, 1)\n",
    "        total += labels.size(0)\n",
    "        correct += (predicted == labels).sum().item()\n",
    "\n",
    "print(f'Test Accuracy: {100 * correct / total:.2f}%')\n"
   ]
  },
  {
   "cell_type": "code",
   "execution_count": 21,
   "id": "f803175f-3aeb-445f-bf7e-d8e42e39dda2",
   "metadata": {
    "id": "f803175f-3aeb-445f-bf7e-d8e42e39dda2"
   },
   "outputs": [],
   "source": [
    "torch.save(classifier.state_dict(), \"flower_fullnn.pth\")"
   ]
  },
  {
   "cell_type": "markdown",
   "id": "K07Gp7szE9Cn",
   "metadata": {
    "id": "K07Gp7szE9Cn"
   },
   "source": [
    "По графикам видно, что модель быстро переобучается и результаты становятся относительно плохие. Accuracy почти сразу перестает расти и даже ухудшаться. На тестовой выборке резульатат можно оценивать как плохой."
   ]
  },
  {
   "cell_type": "markdown",
   "id": "qzVw_lJQFneM",
   "metadata": {
    "id": "qzVw_lJQFneM"
   },
   "source": [
    "## Выводы\n",
    "Сравнили две модели для задачи классификации изображений цветов: сверточная нейронна сеть и предобученная полносвязная нейронная сеть. Всего классов 5.\n",
    "\n",
    "Для сверточной модели результаты:\n",
    "Test Accuracy: 66.97%\n",
    "\n",
    "Для полносвязной модели результаты:\n",
    "Test Accuracy: 45.73%\n",
    "\n",
    "Сверточная модель показала лучшие результаты как на валидационной, так и на тестовой выборках. Полносвязная модель быстро переобучается и показывает относительно плохие результаты в предсказаниях."
   ]
  },
  {
   "cell_type": "code",
   "execution_count": null,
   "id": "Lqjg7FFPGgF_",
   "metadata": {
    "id": "Lqjg7FFPGgF_"
   },
   "outputs": [],
   "source": []
  }
 ],
 "metadata": {
  "colab": {
   "provenance": []
  },
  "kernelspec": {
   "display_name": "Python 3 (ipykernel)",
   "language": "python",
   "name": "python3"
  },
  "language_info": {
   "codemirror_mode": {
    "name": "ipython",
    "version": 3
   },
   "file_extension": ".py",
   "mimetype": "text/x-python",
   "name": "python",
   "nbconvert_exporter": "python",
   "pygments_lexer": "ipython3",
   "version": "3.10.13"
  }
 },
 "nbformat": 4,
 "nbformat_minor": 5
}
