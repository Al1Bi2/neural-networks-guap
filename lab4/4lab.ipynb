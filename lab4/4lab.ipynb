{
 "cells": [
  {
   "metadata": {},
   "cell_type": "markdown",
   "source": [
    "# Классификация изображений. Сверточные сети. Полносвязные сети с предобучением и дообучением.\n",
    "\n",
    "Выполнили Вилюмсон Александр, Николаев Егор из группы 4136 "
   ],
   "id": "64339ffc680e9400"
  },
  {
   "cell_type": "code",
   "id": "initial_id",
   "metadata": {
    "collapsed": true,
    "ExecuteTime": {
     "end_time": "2024-12-16T13:29:20.050969Z",
     "start_time": "2024-12-16T13:29:20.038037Z"
    }
   },
   "source": [
    "import os\n",
    "\n",
    "base_dir = \"archive/flowers\"\n",
    "train_dir = os.path.join(base_dir, \"train\")\n",
    "val_dir = os.path.join(base_dir, \"val\")\n",
    "\n",
    "def count_images_per_class(directory):\n",
    "    counts = {}\n",
    "    if os.path.exists(directory):\n",
    "        for cat in os.listdir(directory):\n",
    "            category_path = os.path.join(directory, cat)\n",
    "            if os.path.isdir(category_path):\n",
    "                counts[cat] = len([img for img in os.listdir(category_path) if img.endswith(\".jpg\")])\n",
    "    return counts\n",
    "\n",
    "train_counts = count_images_per_class(train_dir)\n",
    "val_counts = count_images_per_class(val_dir)\n",
    "\n",
    "# Вывод результата\n",
    "print(\"Количество изображений в выборке 'train':\")\n",
    "for category, count in train_counts.items():\n",
    "    print(f\"  {category}: {count}\")\n",
    "\n",
    "print(\"\\nКоличество изображений в выборке 'val':\")\n",
    "for category, count in val_counts.items():\n",
    "    print(f\"  {category}: {count}\")"
   ],
   "outputs": [
    {
     "name": "stdout",
     "output_type": "stream",
     "text": [
      "Количество изображений в выборке 'train':\n",
      "  daisy: 611\n",
      "  dandelion: 841\n",
      "  rose: 627\n",
      "  sunflower: 586\n",
      "  tulip: 787\n",
      "\n",
      "Количество изображений в выборке 'val':\n",
      "  daisy: 153\n",
      "  dandelion: 211\n",
      "  rose: 157\n",
      "  sunflower: 147\n",
      "  tulip: 197\n"
     ]
    }
   ],
   "execution_count": 1
  },
  {
   "metadata": {},
   "cell_type": "code",
   "outputs": [],
   "execution_count": null,
   "source": "",
   "id": "2149eeedb94a94e9"
  }
 ],
 "metadata": {
  "kernelspec": {
   "display_name": "Python 3",
   "language": "python",
   "name": "python3"
  },
  "language_info": {
   "codemirror_mode": {
    "name": "ipython",
    "version": 2
   },
   "file_extension": ".py",
   "mimetype": "text/x-python",
   "name": "python",
   "nbconvert_exporter": "python",
   "pygments_lexer": "ipython2",
   "version": "2.7.6"
  }
 },
 "nbformat": 4,
 "nbformat_minor": 5
}
