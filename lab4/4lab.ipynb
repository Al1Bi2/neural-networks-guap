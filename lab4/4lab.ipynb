{
 "cells": [
  {
   "metadata": {},
   "cell_type": "markdown",
   "source": [
    "# Классификация изображений. Сверточные сети. Полносвязные сети с предобучением и дообучением.\n",
    "\n",
    "Выполнили Вилюмсон Александр, Николаев Егор из группы 4136 "
   ],
   "id": "64339ffc680e9400"
  },
  {
   "cell_type": "code",
   "id": "initial_id",
   "metadata": {
    "collapsed": true,
    "jupyter": {
     "is_executing": true
    }
   },
   "source": [
    "import os\n",
    "\n",
    "base_dir = \"archive/flowers\"\n",
    "train_dir = os.path.join(base_dir, \"train\")\n",
    "val_dir = os.path.join(base_dir, \"val\")\n",
    "\n",
    "def count_images_per_class(directory):\n",
    "    counts = {}\n",
    "    if os.path.exists(directory):\n",
    "        for cat in os.listdir(directory):\n",
    "            category_path = os.path.join(directory, cat)\n",
    "            if os.path.isdir(category_path):\n",
    "                counts[cat] = len([img for img in os.listdir(category_path) if img.endswith(\".jpg\")])\n",
    "    return counts\n",
    "\n",
    "train_counts = count_images_per_class(train_dir)\n",
    "val_counts = count_images_per_class(val_dir)\n",
    "\n",
    "# Вывод результата\n",
    "print(\"Количество изображений в выборке 'train':\")\n",
    "for category, count in train_counts.items():\n",
    "    print(f\"  {category}: {count}\")\n",
    "\n",
    "print(\"\\nКоличество изображений в выборке 'val':\")\n",
    "for category, count in val_counts.items():\n",
    "    print(f\"  {category}: {count}\")"
   ],
   "outputs": [],
   "execution_count": null
  },
  {
   "metadata": {
    "jupyter": {
     "is_executing": true
    }
   },
   "cell_type": "code",
   "source": [
    "import pandas as pd\n",
    "\n",
    "# Путь к директориям train и val\n",
    "base_dir = \"archive/flowers\"\n",
    "train_dir = os.path.join(base_dir, \"train\")\n",
    "val_dir = os.path.join(base_dir, \"val\")\n",
    "\n",
    "# Функция для создания DataFrame из указанной директории\n",
    "def create_dataframe(directory, type):\n",
    "    data = []\n",
    "    for category in os.listdir(directory):\n",
    "        category_path = os.path.join(directory, category)\n",
    "        if os.path.isdir(category_path):\n",
    "            for img in os.listdir(category_path):\n",
    "                if img.endswith(\".jpg\"):\n",
    "                    data.append({\n",
    "                        \"file_path\": os.path.join(category_path, img),\n",
    "                        \"class\": category,\n",
    "                        \"dataset_type\": type,\n",
    "                    })\n",
    "    return pd.DataFrame(data)\n",
    "\n",
    "train_df = create_dataframe(train_dir, \"train\")\n",
    "val_df = create_dataframe(val_dir, \"val\")\n",
    "data_df = pd.concat([train_df, val_df], ignore_index=True)"
   ],
   "id": "2149eeedb94a94e9",
   "outputs": [],
   "execution_count": null
  },
  {
   "metadata": {
    "jupyter": {
     "is_executing": true
    }
   },
   "cell_type": "code",
   "source": "data_df['class'].value_counts()",
   "id": "e479d874554769de",
   "outputs": [],
   "execution_count": null
  },
  {
   "metadata": {
    "jupyter": {
     "is_executing": true
    }
   },
   "cell_type": "code",
   "source": [
    "from PIL import Image\n",
    "import numpy as np\n",
    "\n",
    "# Задаем целевой размер\n",
    "TARGET_SIZE = (224, 224)\n",
    "\n",
    "# Функция для преобразования изображения\n",
    "def preprocess_image(file_path, target_size=TARGET_SIZE):\n",
    "    with Image.open(file_path) as img:\n",
    "        img = img.resize(target_size)\n",
    "        img = img.convert('RGB')    \n",
    "        img_array = np.array(img)   \n",
    "        return img_array\n",
    "\n",
    "data_df['processed_image'] = data_df['file_path'].apply(preprocess_image)\n",
    "print(data_df['processed_image'].iloc[0].shape)"
   ],
   "id": "35a52e8f1ddf7c3d",
   "outputs": [],
   "execution_count": null
  },
  {
   "metadata": {
    "jupyter": {
     "is_executing": true
    }
   },
   "cell_type": "code",
   "source": [
    "data_df['normalized_image'] = data_df['processed_image'].apply(lambda x: x / 255.0)\n",
    "data_df.head()"
   ],
   "id": "dd1dba29e27c37a4",
   "outputs": [],
   "execution_count": null
  },
  {
   "metadata": {
    "jupyter": {
     "is_executing": true
    }
   },
   "cell_type": "code",
   "source": [
    "# Разделяем данные\n",
    "train_data = data_df[data_df['dataset_type'] == 'train']\n",
    "val_data = data_df[data_df['dataset_type'] == 'val']"
   ],
   "id": "89bde8a4df3489e8",
   "outputs": [],
   "execution_count": null
  },
  {
   "metadata": {
    "jupyter": {
     "is_executing": true
    }
   },
   "cell_type": "code",
   "source": [
    "from sklearn.preprocessing import LabelEncoder\n",
    "\n",
    "label_encoder = LabelEncoder()\n",
    "y_train = label_encoder.fit_transform(train_data['class'])\n",
    "y_val = label_encoder.transform(val_data['class'])\n",
    "\n",
    "X_train = np.stack(train_data['normalized_image'].values)\n",
    "X_val = np.stack(val_data['normalized_image'].values)\n",
    "\n",
    "X_train.head()"
   ],
   "id": "a6eaf406a0135d9a",
   "outputs": [],
   "execution_count": null
  }
 ],
 "metadata": {
  "kernelspec": {
   "display_name": "Python 3",
   "language": "python",
   "name": "python3"
  },
  "language_info": {
   "codemirror_mode": {
    "name": "ipython",
    "version": 2
   },
   "file_extension": ".py",
   "mimetype": "text/x-python",
   "name": "python",
   "nbconvert_exporter": "python",
   "pygments_lexer": "ipython2",
   "version": "2.7.6"
  }
 },
 "nbformat": 4,
 "nbformat_minor": 5
}
