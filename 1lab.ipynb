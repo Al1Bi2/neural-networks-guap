{
 "cells": [
  {
   "cell_type": "code",
   "id": "a3b3a56e",
   "metadata": {},
   "source": [
    "import pandas as pd\n",
    "import numpy as np\n",
    "import matplotlib.pyplot as plt\n",
    "%matplotlib inline"
   ],
   "outputs": [],
   "execution_count": null
  },
  {
   "cell_type": "code",
   "id": "2122e6cf",
   "metadata": {},
   "source": [
    "def load_data(filename:str):\n",
    "    return pd.read_csv(filename+\".csv\")\n",
    "concrete = load_data(\"V7\")"
   ],
   "outputs": [],
   "execution_count": null
  },
  {
   "cell_type": "code",
   "id": "49e61778",
   "metadata": {},
   "source": [
    "concrete.head()"
   ],
   "outputs": [],
   "execution_count": null
  },
  {
   "cell_type": "markdown",
   "id": "b8828941",
   "metadata": {},
   "source": [
    "**Unnamed** - номера строк, сразу же удалим их"
   ]
  },
  {
   "cell_type": "code",
   "id": "64c6b10c",
   "metadata": {},
   "source": [
    "concrete = concrete.drop(\"Unnamed: 0\",axis=1)\n",
    "y_column_name = \"concrete_compressive_strength\"\n",
    "y_column_number = 4\n",
    "\n",
    "concrete.info()"
   ],
   "outputs": [],
   "execution_count": null
  },
  {
   "cell_type": "markdown",
   "id": "d70526e8",
   "metadata": {},
   "source": [
    "Можно заметить, что в категории **fly_ash** встречаются **NotaNumber** значения"
   ]
  },
  {
   "cell_type": "code",
   "id": "ba34834b",
   "metadata": {},
   "source": [
    "concrete.describe()"
   ],
   "outputs": [],
   "execution_count": null
  },
  {
   "cell_type": "code",
   "id": "333143ed",
   "metadata": {},
   "source": [
    "concrete.hist(bins=200,figsize=(20,15))\n",
    "plt.show()"
   ],
   "outputs": [],
   "execution_count": null
  },
  {
   "cell_type": "markdown",
   "id": "365ff498",
   "metadata": {},
   "source": [
    "Это просто **ЖОПА**, а не данные. ~~я просто ибал, особенно ебучи возраст. Сука, отдельные пики с мудаком который кучу бетона в 28 лет записал~~ А ещё \"fine_aggregate\" это оказывается \"fine_aggregate \""
   ]
  },
  {
   "cell_type": "code",
   "id": "4f789db7",
   "metadata": {},
   "source": [
    "corr_matrix  = concrete.corr()\n",
    "corr_matrix"
   ],
   "outputs": [],
   "execution_count": null
  },
  {
   "cell_type": "code",
   "id": "95a66e89",
   "metadata": {},
   "source": "corr_matrix[y_column_name].sort_values(ascending = False)",
   "outputs": [],
   "execution_count": null
  },
  {
   "cell_type": "code",
   "id": "533a5d18",
   "metadata": {},
   "source": [
    "from pandas.plotting import scatter_matrix\n",
    "scatter_matrix(concrete,figsize=(13,13))\n",
    "plt.show()"
   ],
   "outputs": [],
   "execution_count": null
  },
  {
   "cell_type": "markdown",
   "id": "df5d826c",
   "metadata": {},
   "source": [
    "Чё можно сразу прикинуть **age** может и влияет на возраст на первые 100 лет но хз, данные очень грязные."
   ]
  },
  {
   "cell_type": "markdown",
   "id": "f9e2e9ca",
   "metadata": {},
   "source": [
    "Из значимого сразу видно **Cement** и **water** Также в приципе коррелируют, **fly_ash**, **fine/coarse__aggregate**(можно попробовать разделить), **superplasterizer**, **blast_furnace_slag**"
   ]
  },
  {
   "cell_type": "markdown",
   "id": "388d4c85",
   "metadata": {},
   "source": [
    "Так как это цемент, то важными данными юудут отношения между компонентами"
   ]
  },
  {
   "cell_type": "code",
   "id": "64f0b958",
   "metadata": {},
   "source": [
    "concrete_clean = concrete\n",
    "concrete_clean[\"с2w\"] = concrete[\"cement\"]/concrete[\"water\"]\n",
    "concrete_clean[\"coarse2fine\"]=concrete[\"coarse_aggregate\"]/concrete[\"fine_aggregate \"]\n",
    "concrete_clean[\"coarse2fine2c\"]=concrete[\"coarse2fine\"]/concrete[\"cement\"]\n",
    "concrete_clean[\"coarse2c\"]=concrete[\"coarse_aggregate\"]/concrete[\"cement\"]\n",
    "concrete_clean[\"fine2c\"]=concrete[\"fine_aggregate \"]/concrete[\"cement\"]\n",
    "concrete_clean[\"s2w\"] = concrete[\"superplasticizer\"]/concrete[\"water\"]\n",
    "concrete_clean[\"s2c\"] = concrete[\"superplasticizer\"]/concrete[\"cement\"]\n",
    "concrete_clean[\"bfs2c\"] = concrete[\"blast_furnace_slag\"]/concrete[\"cement\"]\n",
    "concrete_clean.corr()[y_column_name].sort_values(ascending = False,key=abs)"
   ],
   "outputs": [],
   "execution_count": null
  },
  {
   "cell_type": "markdown",
   "id": "a52955cf",
   "metadata": {},
   "source": [
    "**CEMENT TO WATER** даёт очень неплохую корреляцию, попробую с остальными к воде"
   ]
  },
  {
   "cell_type": "code",
   "id": "7fb6f794",
   "metadata": {},
   "source": [
    "scatter_matrix(concrete_clean,figsize=(10,10))\n",
    "plt.show()"
   ],
   "outputs": [],
   "execution_count": null
  },
  {
   "cell_type": "code",
   "id": "882e309f",
   "metadata": {},
   "source": [
    "concrete_clean.drop(\"fly_ash\",axis=1,inplace=True)\n",
    "concrete_clean.info()"
   ],
   "outputs": [],
   "execution_count": null
  },
  {
   "cell_type": "code",
   "id": "1a98fb28",
   "metadata": {},
   "source": [
    "from sklearn.feature_selection import SelectKBest, f_regression\n",
    "concreteX = concrete_clean.loc[:,concrete.columns != y_column_name]\n",
    "concreteY = concrete_clean[y_column_name]\n",
    "bestf=SelectKBest(f_regression,k=5)\n",
    "fit = bestf.fit(concreteX,concreteY)\n",
    "dfscores = pd.DataFrame({\"fit\":fit.scores_})\n",
    "dfcolumns = pd.DataFrame({\"title\":concreteX.columns})\n",
    "fscores = pd.concat([dfcolumns,dfscores],axis=1)\n",
    "fscores.sort_values(ascending = False,by = \"fit\")"
   ],
   "outputs": [],
   "execution_count": null
  },
  {
   "cell_type": "code",
   "id": "68c87fd6",
   "metadata": {},
   "source": [
    "# Построенный набор данных\n",
    "delete = [\"bfs2c\",\"coarse2fine\",\"s2c\",\"blast_furnace_slag\",\"coarse_aggregate\",\"fine_aggregate \"]\n",
    "concrete_clean.drop(delete,axis=1,inplace=True)\n",
    "concrete_clean"
   ],
   "outputs": [],
   "execution_count": null
  },
  {
   "cell_type": "code",
   "id": "0d168cfc-07d0-485d-92b0-a327e42d5995",
   "metadata": {},
   "source": [
    "# Исходный набор данных\n",
    "concrete_full=concrete\n",
    "concrete_full"
   ],
   "outputs": [],
   "execution_count": null
  },
  {
   "cell_type": "code",
   "id": "5f28f311",
   "metadata": {},
   "source": [
    "# Исходный преобразованный набор данных\n",
    "from sklearn.preprocessing import StandardScaler\n",
    "concrete_full=concrete\n",
    "scaler_full = StandardScaler().fit(concrete_full)\n",
    "std_concrete_full = pd.DataFrame(scaler_full.fit_transform(concrete_full))\n",
    "std_concrete_full"
   ],
   "outputs": [],
   "execution_count": null
  },
  {
   "cell_type": "code",
   "id": "c0e278e3-741e-4935-b71b-e6d8f5ba8acf",
   "metadata": {},
   "source": [
    "# Построенный преобразованный набор данных\n",
    "scaler_clean = StandardScaler().fit(concrete_clean)\n",
    "std_concrete_clean = pd.DataFrame(scaler_full.fit_transform(concrete_clean))\n",
    "std_concrete_clean"
   ],
   "outputs": [],
   "execution_count": null
  },
  {
   "cell_type": "code",
   "id": "86b3497e-13a9-4382-ab6f-6ce9600881e5",
   "metadata": {},
   "source": [
    "from sklearn.model_selection import train_test_split\n",
    "def split_data(data, column_number):\n",
    "    data_y = data[column_number]\n",
    "    data_x = data.drop(columns=[column_number])\n",
    "    test_size = 0.2\n",
    "    val_size = 0.25\n",
    "    seed = 7\n",
    "    \n",
    "    x_train, x_test, y_train, y_test = train_test_split(data_x,data_y,test_size = test_size, random_state = seed)\n",
    "    \n",
    "    x_train2, x_val, y_train2, y_val = train_test_split(x_train,y_train,test_size = val_size, random_state = seed)\n",
    "    \n",
    "    return x_train,x_test,x_val, y_train,y_test, y_val"
   ],
   "outputs": [],
   "execution_count": null
  },
  {
   "metadata": {},
   "cell_type": "code",
   "source": [
    "from sklearn.metrics import mean_squared_error, r2_score\n",
    "from tensorflow.keras import Sequential\n",
    "from tensorflow.keras.layers import Dense, Conv1D, Flatten, Input\n",
    "\n",
    "def build_fully_connected_model(input_shape):\n",
    "    model = Sequential()\n",
    "    model.add(Input(shape=input_shape))\n",
    "    model.add(Dense(64, activation='relu'))\n",
    "    model.add(Dense(32, activation='relu'))\n",
    "    model.add(Dense(1))\n",
    "    model.compile(optimizer='adam', loss='mse')\n",
    "    return model\n",
    "\n",
    "def build_cnn_model(input_shape=(None,), filters=64, kernel_size=2, units=32):\n",
    "    model = Sequential()\n",
    "    model.add(Input(shape=input_shape))\n",
    "    model.add(Conv1D(filters=filters, kernel_size=kernel_size, activation='relu'))\n",
    "    model.add(Flatten())\n",
    "    model.add(Dense(units=units, activation='relu'))\n",
    "    model.add(Dense(1)) \n",
    "    model.compile(optimizer='adam', loss='mse')\n",
    "    return model\n",
    "\n",
    "def evaluate_model_quality(y_true, y_pred):\n",
    "    rmse = np.sqrt(mean_squared_error(y_true, y_pred))\n",
    "    r2 = r2_score(y_true, y_pred)\n",
    "    return rmse, r2\n",
    "\n",
    "def evaluate_model(model, x_train, y_train, x_val, y_val):\n",
    "    model.fit(x_train, y_train, epochs=100, batch_size=32, verbose=0)\n",
    "\n",
    "    train_preds = model.predict(x_train)\n",
    "    val_preds = model.predict(x_val)\n",
    "\n",
    "    train_rmse, train_r2 = evaluate_model_quality(y_train, train_preds)\n",
    "    val_rmse, val_r2 = evaluate_model_quality(y_val, val_preds)\n",
    "\n",
    "    return train_rmse, val_rmse, train_r2, val_r2\n",
    "\n",
    "def compare_models(data, y_column):\n",
    "    x_train, x_test, x_val, y_train, y_test, y_val = split_data(data, y_column)\n",
    "\n",
    "    x_train_cnn = x_train.values.reshape((x_train.shape[0], x_train.shape[1], 1))\n",
    "    x_val_cnn = x_val.values.reshape((x_val.shape[0], x_val.shape[1], 1))\n",
    "\n",
    "    fc_model = build_fully_connected_model(input_shape=(x_train.shape[1],))\n",
    "    cnn_model = build_cnn_model(input_shape=(x_train_cnn.shape[1], 1))\n",
    "\n",
    "    fc_train_rmse, fc_val_rmse, fc_train_r2, fc_val_r2 = evaluate_model(fc_model, x_train, y_train, x_val, y_val)\n",
    "\n",
    "    cnn_train_rmse, cnn_val_rmse, cnn_train_r2, cnn_val_r2 = evaluate_model(cnn_model, x_train_cnn, y_train, x_val_cnn, y_val)\n",
    "\n",
    "    return {\n",
    "        'Fully Connected': {\n",
    "            'Train RMSE': fc_train_rmse,\n",
    "            'Val RMSE': fc_val_rmse,\n",
    "            'Train R²': fc_train_r2,\n",
    "            'Val R²': fc_val_r2,\n",
    "        },\n",
    "        'CNN': {\n",
    "            'Train RMSE': cnn_train_rmse,\n",
    "            'Val RMSE': cnn_val_rmse,\n",
    "            'Train R²': cnn_train_r2,\n",
    "            'Val R²': cnn_val_r2,\n",
    "        }\n",
    "    }, (x_train_cnn, x_test, x_val_cnn, y_train, y_test, y_val), (fc_model, cnn_model)"
   ],
   "id": "2544c2c1c361096a",
   "outputs": [],
   "execution_count": null
  },
  {
   "metadata": {},
   "cell_type": "markdown",
   "source": "### Результаты обучения для исходного преобразованного набора данных",
   "id": "8c6993d73c41dddf"
  },
  {
   "metadata": {},
   "cell_type": "code",
   "source": [
    "clean_result, clean_test_data, clean_models = compare_models(concrete_clean, y_column_name)\n",
    "clean_result"
   ],
   "id": "61455eeefe3f2c91",
   "outputs": [],
   "execution_count": null
  },
  {
   "metadata": {},
   "cell_type": "markdown",
   "source": "### Результаты обучения для преобразованного построенного набора данных",
   "id": "498fd67e5bf2c355"
  },
  {
   "metadata": {},
   "cell_type": "code",
   "source": [
    "std_clean_result, std_clean_test_data, std_clean_models = compare_models(std_concrete_clean, y_column_number)\n",
    "std_clean_result"
   ],
   "id": "16f3eef0a2944549",
   "outputs": [],
   "execution_count": null
  },
  {
   "metadata": {},
   "cell_type": "markdown",
   "source": "### Результаты обучения для исходного набора данных",
   "id": "e315175ca8e538d0"
  },
  {
   "metadata": {},
   "cell_type": "code",
   "source": [
    "full_result, full_test_data, full_models = compare_models(concrete_full, y_column_name)\n",
    "full_result"
   ],
   "id": "46838496df11153c",
   "outputs": [],
   "execution_count": null
  },
  {
   "metadata": {},
   "cell_type": "markdown",
   "source": "### Результаты обучения для построенного набора данных",
   "id": "87a1390f46ae0307"
  },
  {
   "metadata": {},
   "cell_type": "code",
   "source": [
    "std_full_result, std_full_test_data, std_full_models = compare_models(std_concrete_full, y_column_number)\n",
    "full_result"
   ],
   "id": "69e296160a56534b",
   "outputs": [],
   "execution_count": null
  },
  {
   "metadata": {},
   "cell_type": "markdown",
   "source": [
    "## Анализ результатов\n",
    "Изучая метрики, видим что RMSE у всех наборов данных равен *~8*, кроме преобразованного построенного набора данных, у которого RMSE=~0.33, что кратно лучше остальных наборов. \n",
    "\n",
    "\n",
    "### Сравнение метрик двух моделей:\n",
    "#### RMSE:\n",
    "   - Полносвязная модель:\n",
    "     - Train RMSE: 0.3313\n",
    "     - Val RMSE: 0.3302\n",
    "   - Одномерная сверточная сеть:\n",
    "     - Train RMSE: 0.3275\n",
    "     - Val RMSE: 0.3242\n",
    "\n",
    "Здесь видно, что значения RMSE для CNN ниже как на обучающем, так и на валидационном наборе данных, что указывает на то, что свёрточная сеть(CNN) имеет меньшую среднюю ошибку предсказания.\n",
    "\n",
    "#### R^2:\n",
    "   - Полносвязная модель:\n",
    "     - Train R^2: 0.8915\n",
    "     - Val R^2: 0.8921\n",
    "   - Одномерная сверточная сеть:\n",
    "     - Train R^2: 0.8940\n",
    "     - Val R^2: 0.8960\n",
    "\n",
    "Значения R^2 также выше для сверточной сети как на обучающем, так и на валидационном наборах данных.\n",
    "\n",
    "### Заключение:\n",
    "\n",
    "На основании метрик можно сделать вывод, что одномерная сверточная сеть (CNN) является лучшей моделью по сравнению с полносвязной нейросетевой регрессионной моделью, так как она демонстрирует как более низкие значения RMSE, так и более высокие значения R^2."
   ],
   "id": "4d2ecbf88e0675e2"
  },
  {
   "metadata": {},
   "cell_type": "markdown",
   "source": "## Оценка качества на тестовом наборе",
   "id": "5a0ca6cb92a36be5"
  },
  {
   "metadata": {},
   "cell_type": "code",
   "source": [
    "x_test_res, y_test_res = std_clean_test_data[1], std_clean_test_data[4] \n",
    "fc_model_res, cnn_model_res = std_clean_models\n",
    "\n",
    "x_test_cnn = x_test_res.values.reshape((x_test_res.shape[0], x_test_res.shape[1], 1))\n",
    "test_clean_std_preds = cnn_model_res.predict(x_test_cnn)\n",
    "\n",
    "test_rmse, test_r2 = evaluate_model_quality(y_test_res, test_clean_std_preds)\n",
    "print(f\"RMSE: {test_rmse}, R²: {test_r2}\")\n"
   ],
   "id": "1c763b555da25a34",
   "outputs": [],
   "execution_count": null
  },
  {
   "metadata": {},
   "cell_type": "markdown",
   "source": [
    "### Анализ результатов\n",
    "Низкое значение RMSE=0.373 указывает на то, что модель хорошо справляется с задачей предсказания, и её ошибки относительно невелики.\n",
    "\n",
    "Значение R^2 = 0.853 говорит о том, что 85.3% вариации зависимой переменной объясняется моделью. Это довольно высокий показатель, что свидетельствует о том, что модель хорошо описывает данные и делает адекватные предсказания."
   ],
   "id": "5269d88a9cef2467"
  },
  {
   "metadata": {},
   "cell_type": "markdown",
   "source": "## Поиск по сетке",
   "id": "21f9d1261d63a960"
  },
  {
   "metadata": {},
   "cell_type": "code",
   "source": [
    "train_x, train_y = std_clean_test_data[0], std_clean_test_data[3]\n",
    "val_x, val_y = std_clean_test_data[2], std_clean_test_data[5]"
   ],
   "id": "554152a78904cafd",
   "outputs": [],
   "execution_count": null
  },
  {
   "metadata": {},
   "cell_type": "code",
   "source": [
    "from scikeras.wrappers import KerasRegressor\n",
    "from sklearn.model_selection import GridSearchCV\n",
    "\n",
    "param_grid = {\n",
    "    'filters': [32, 64, 128],\n",
    "    'kernel_size': [2, 3, 4],\n",
    "    'units': [16, 32, 64],\n",
    "    'batch_size': [16, 32, 64],\n",
    "    'epochs': [50, 100]\n",
    "}\n",
    "\n",
    "md = KerasRegressor(build_fn=build_cnn_model, \n",
    "                    input_shape=(train_x.shape[1],), \n",
    "                    verbose=0)\n",
    "\n",
    "grid = GridSearchCV(estimator=md,\n",
    "                    param_grid=param_grid,\n",
    "                    scoring='neg_mean_squared_error',\n",
    "                    cv=3)\n",
    "\n",
    "grid_result = grid.fit(train_x, train_y)\n",
    "print(f\"Лучшие параметры: {grid_result.best_params_}\")\n",
    "print(f\"Лучший результат (MSE): {grid_result.best_score_}\")\n",
    "\n",
    "best_model = grid_result.best_estimator_\n",
    "\n",
    "val_preds = best_model.predict(val_x)\n",
    "train_preds = best_model.predict(val_x)\n",
    "\n",
    "val_rmse, val_r2 = evaluate_model_quality(val_y, val_preds)\n",
    "print(f\"RMSE на валидационной выборке: {val_rmse}\")\n",
    "print(f\"R² на валидационной выборке: {val_r2}\")\n",
    "\n",
    "train_rmse, train_r2 = evaluate_model_quality(train_y, train_preds)\n",
    "print(f\"RMSE на обучающей выборке: {train_rmse}\")\n",
    "print(f\"R² на обучающей выборке: {train_r2}\")"
   ],
   "id": "3831ae95ba46b71b",
   "outputs": [],
   "execution_count": null
  },
  {
   "metadata": {},
   "cell_type": "code",
   "source": [
    "\n",
    "# Массив для хранения результатов\n",
    "results = []\n",
    "\n",
    "filters_list = [32, 64, 128]\n",
    "kernel_sizes = [2, 3, 4]\n",
    "units_list = [16, 32, 64]\n",
    "batch_sizes = [16, 32]\n",
    "epochs_list = [50, 100]\n",
    "\n",
    "# Перебор всех комбинаций гиперпараметров и сохранение результатов\n",
    "for f in filters_list:\n",
    "    for k in kernel_sizes:\n",
    "        for u in units_list:\n",
    "            for b in batch_sizes:\n",
    "                for e in epochs_list:\n",
    "                    # Создаем модель с текущими гиперпараметрами\n",
    "                    model = build_cnn_model(\n",
    "                        input_shape=(train_x.shape[1], 1), \n",
    "                        filters=f, \n",
    "                        kernel_size=k, \n",
    "                        units=u)\n",
    "\n",
    "                    # Обучаем модель\n",
    "                    model.fit(train_x, train_y, batch_size=b, epochs=e, verbose=0)\n",
    "\n",
    "                    # Предсказываем на валидационных данных\n",
    "                    val_preds = model.predict(val_x)\n",
    "                    val_rmse, val_r2 = evaluate_model_quality(val_y, val_preds)\n",
    "\n",
    "                    # Сохраняем результат\n",
    "                    results.append({\n",
    "                        'filters': f,\n",
    "                        'kernel_size': k,\n",
    "                        'units': u,\n",
    "                        'batch_size': b,\n",
    "                        'epochs': e,\n",
    "                        'val_rmse': val_rmse\n",
    "                    })"
   ],
   "id": "dfb0bfab1b33f10a",
   "outputs": [],
   "execution_count": null
  },
  {
   "metadata": {
    "ExecuteTime": {
     "end_time": "2024-09-22T21:43:30.112346Z",
     "start_time": "2024-09-22T21:43:30.100242Z"
    }
   },
   "cell_type": "code",
   "source": [
    "df = pd.DataFrame(results)\n",
    "df.sort_values(by='val_rmse', ascending=True)"
   ],
   "id": "31343a45a619bb0a",
   "outputs": [
    {
     "data": {
      "text/plain": [
       "     filters  kernel_size  units  batch_size  epochs  val_rmse\n",
       "81       128            2     64          16     100  0.253649\n",
       "105      128            4     64          16     100  0.266965\n",
       "83       128            2     64          32     100  0.273862\n",
       "89       128            3     32          16     100  0.274203\n",
       "9         32            2     64          16     100  0.276188\n",
       "..       ...          ...    ...         ...     ...       ...\n",
       "26        32            4     16          32      50  0.377081\n",
       "50        64            3     16          32      50  0.378853\n",
       "18        32            3     32          32      50  0.382194\n",
       "66        64            4     32          32      50  0.389022\n",
       "14        32            3     16          32      50  0.393377\n",
       "\n",
       "[108 rows x 6 columns]"
      ],
      "text/html": [
       "<div>\n",
       "<style scoped>\n",
       "    .dataframe tbody tr th:only-of-type {\n",
       "        vertical-align: middle;\n",
       "    }\n",
       "\n",
       "    .dataframe tbody tr th {\n",
       "        vertical-align: top;\n",
       "    }\n",
       "\n",
       "    .dataframe thead th {\n",
       "        text-align: right;\n",
       "    }\n",
       "</style>\n",
       "<table border=\"1\" class=\"dataframe\">\n",
       "  <thead>\n",
       "    <tr style=\"text-align: right;\">\n",
       "      <th></th>\n",
       "      <th>filters</th>\n",
       "      <th>kernel_size</th>\n",
       "      <th>units</th>\n",
       "      <th>batch_size</th>\n",
       "      <th>epochs</th>\n",
       "      <th>val_rmse</th>\n",
       "    </tr>\n",
       "  </thead>\n",
       "  <tbody>\n",
       "    <tr>\n",
       "      <th>81</th>\n",
       "      <td>128</td>\n",
       "      <td>2</td>\n",
       "      <td>64</td>\n",
       "      <td>16</td>\n",
       "      <td>100</td>\n",
       "      <td>0.253649</td>\n",
       "    </tr>\n",
       "    <tr>\n",
       "      <th>105</th>\n",
       "      <td>128</td>\n",
       "      <td>4</td>\n",
       "      <td>64</td>\n",
       "      <td>16</td>\n",
       "      <td>100</td>\n",
       "      <td>0.266965</td>\n",
       "    </tr>\n",
       "    <tr>\n",
       "      <th>83</th>\n",
       "      <td>128</td>\n",
       "      <td>2</td>\n",
       "      <td>64</td>\n",
       "      <td>32</td>\n",
       "      <td>100</td>\n",
       "      <td>0.273862</td>\n",
       "    </tr>\n",
       "    <tr>\n",
       "      <th>89</th>\n",
       "      <td>128</td>\n",
       "      <td>3</td>\n",
       "      <td>32</td>\n",
       "      <td>16</td>\n",
       "      <td>100</td>\n",
       "      <td>0.274203</td>\n",
       "    </tr>\n",
       "    <tr>\n",
       "      <th>9</th>\n",
       "      <td>32</td>\n",
       "      <td>2</td>\n",
       "      <td>64</td>\n",
       "      <td>16</td>\n",
       "      <td>100</td>\n",
       "      <td>0.276188</td>\n",
       "    </tr>\n",
       "    <tr>\n",
       "      <th>...</th>\n",
       "      <td>...</td>\n",
       "      <td>...</td>\n",
       "      <td>...</td>\n",
       "      <td>...</td>\n",
       "      <td>...</td>\n",
       "      <td>...</td>\n",
       "    </tr>\n",
       "    <tr>\n",
       "      <th>26</th>\n",
       "      <td>32</td>\n",
       "      <td>4</td>\n",
       "      <td>16</td>\n",
       "      <td>32</td>\n",
       "      <td>50</td>\n",
       "      <td>0.377081</td>\n",
       "    </tr>\n",
       "    <tr>\n",
       "      <th>50</th>\n",
       "      <td>64</td>\n",
       "      <td>3</td>\n",
       "      <td>16</td>\n",
       "      <td>32</td>\n",
       "      <td>50</td>\n",
       "      <td>0.378853</td>\n",
       "    </tr>\n",
       "    <tr>\n",
       "      <th>18</th>\n",
       "      <td>32</td>\n",
       "      <td>3</td>\n",
       "      <td>32</td>\n",
       "      <td>32</td>\n",
       "      <td>50</td>\n",
       "      <td>0.382194</td>\n",
       "    </tr>\n",
       "    <tr>\n",
       "      <th>66</th>\n",
       "      <td>64</td>\n",
       "      <td>4</td>\n",
       "      <td>32</td>\n",
       "      <td>32</td>\n",
       "      <td>50</td>\n",
       "      <td>0.389022</td>\n",
       "    </tr>\n",
       "    <tr>\n",
       "      <th>14</th>\n",
       "      <td>32</td>\n",
       "      <td>3</td>\n",
       "      <td>16</td>\n",
       "      <td>32</td>\n",
       "      <td>50</td>\n",
       "      <td>0.393377</td>\n",
       "    </tr>\n",
       "  </tbody>\n",
       "</table>\n",
       "<p>108 rows × 6 columns</p>\n",
       "</div>"
      ]
     },
     "execution_count": 132,
     "metadata": {},
     "output_type": "execute_result"
    }
   ],
   "execution_count": 132
  },
  {
   "metadata": {
    "ExecuteTime": {
     "end_time": "2024-09-22T21:48:44.662990Z",
     "start_time": "2024-09-22T21:48:44.656956Z"
    }
   },
   "cell_type": "code",
   "source": [
    "best_result = min(results, key=lambda x: x['val_rmse'])\n",
    "\n",
    "print(f\"Наилучшие параметры: filters={best_result['filters']}, kernel_size={best_result['kernel_size']}, units={best_result['units']}, batch_size={best_result['batch_size']}, epochs={best_result['epochs']}\")\n",
    "print(f\"Наименьший RMSE: {best_result['val_rmse']}\")"
   ],
   "id": "8da0b66ce2a24688",
   "outputs": [
    {
     "name": "stdout",
     "output_type": "stream",
     "text": [
      "Наилучшие параметры: filters=128, kernel_size=2, units=64, batch_size=16, epochs=100\n",
      "Наименьший RMSE: 0.2536487768045288\n"
     ]
    }
   ],
   "execution_count": 139
  },
  {
   "metadata": {
    "ExecuteTime": {
     "end_time": "2024-09-22T21:47:31.776368Z",
     "start_time": "2024-09-22T21:47:31.108598Z"
    }
   },
   "cell_type": "code",
   "source": [
    "variation_numbers = range(1, len(results) + 1)\n",
    "\n",
    "rmse_values = [result['val_rmse'] for result in results]\n",
    "\n",
    "plt.figure(figsize=(12, 6))\n",
    "plt.plot(variation_numbers, rmse_values, marker='o', linestyle='-', color='b')\n",
    "plt.title('RMSE для каждой вариации гиперпараметров')\n",
    "plt.xlabel('Номер вариации')\n",
    "plt.ylabel('RMSE')\n",
    "plt.xticks(variation_numbers) \n",
    "plt.grid(True)\n",
    "plt.show()"
   ],
   "id": "cbbf71895d97bfc1",
   "outputs": [
    {
     "data": {
      "text/plain": [
       "<Figure size 1200x600 with 1 Axes>"
      ],
      "image/png": "[encoded data removed]"
     },
     "metadata": {},
     "output_type": "display_data"
    }
   ],
   "execution_count": 138
  },
  {
   "metadata": {
    "ExecuteTime": {
     "end_time": "2024-09-22T21:55:39.100883Z",
     "start_time": "2024-09-22T21:55:30.288949Z"
    }
   },
   "cell_type": "code",
   "source": [
    "best_model = build_cnn_model(\n",
    "    input_shape=(train_x.shape[1], 1),\n",
    "    filters=128,\n",
    "    units=64,\n",
    "    kernel_size=2,\n",
    ")\n",
    "best_model.fit(train_x, train_y, batch_size=16, epochs=100, verbose=0)\n",
    "\n",
    "best_clean_std_preds = best_model.predict(x_test_cnn)\n",
    "\n",
    "best_test_rmse, best_test_r2 = evaluate_model_quality(y_test_res, best_clean_std_preds)\n",
    "print(f\"RMSE: {best_test_rmse}, R²: {best_test_r2}\")"
   ],
   "id": "f8ff1a53ae79b066",
   "outputs": [
    {
     "name": "stdout",
     "output_type": "stream",
     "text": [
      "\u001B[1m7/7\u001B[0m \u001B[32m━━━━━━━━━━━━━━━━━━━━\u001B[0m\u001B[37m\u001B[0m \u001B[1m0s\u001B[0m 7ms/step \n",
      "RMSE: 0.37504108542498343, R²: 0.8520782688530688\n"
     ]
    }
   ],
   "execution_count": 140
  },
  {
   "metadata": {},
   "cell_type": "code",
   "outputs": [],
   "execution_count": null,
   "source": "# TODO: Сделать вывод, возможно немного оптимизировать Grid-search",
   "id": "4058878015c49b21"
  }
 ],
 "metadata": {
  "kernelspec": {
   "display_name": "Python 3 (ipykernel)",
   "language": "python",
   "name": "python3"
  },
  "language_info": {
   "codemirror_mode": {
    "name": "ipython",
    "version": 3
   },
   "file_extension": ".py",
   "mimetype": "text/x-python",
   "name": "python",
   "nbconvert_exporter": "python",
   "pygments_lexer": "ipython3",
   "version": "3.12.4"
  }
 },
 "nbformat": 4,
 "nbformat_minor": 5
}
