{
 "cells": [
  {
   "cell_type": "code",
   "execution_count": 4,
   "id": "5b1c5d3c-f2e7-4769-8274-928d803c7da8",
   "metadata": {},
   "outputs": [],
   "source": [
    "import numpy as np\n",
    "from keras_preprocessing.sequence import pad_sequences\n",
    "import numpy as np \n",
    "from keras.datasets import imdb\n",
    "from keras.models import Sequential\n",
    "from keras.layers import Dense, Dropout, Activation\n",
    "#from keras.preprocessing.text import Tokenizer\n",
    "import matplotlib.pyplot as plt\n",
    "\n",
    "from sklearn.model_selection import train_test_split\n",
    "from keras.datasets import imdb\n"
   ]
  },
  {
   "cell_type": "code",
   "execution_count": 5,
   "id": "338dbb11-686f-40c6-9543-6d5084a64d16",
   "metadata": {},
   "outputs": [
    {
     "name": "stdout",
     "output_type": "stream",
     "text": [
      "7\n"
     ]
    }
   ],
   "source": [
    "seed = 7\n",
    "print(seed)"
   ]
  },
  {
   "cell_type": "code",
   "execution_count": 6,
   "id": "7e231f4a-660a-49d4-8c9c-1984fffcccd7",
   "metadata": {},
   "outputs": [],
   "source": [
    "from sklearn.model_selection import train_test_split\n",
    "from keras.datasets import imdb\n",
    "\n",
    "# Загрузка данных\n",
    "max_features = 20000\n",
    "(x_data1, y_data1), (x_data2, y_data2) = imdb.load_data(num_words=max_features,seed=seed)"
   ]
  },
  {
   "cell_type": "code",
   "execution_count": 7,
   "id": "d16780e6-91a3-4f23-b4fa-144bf023d57c",
   "metadata": {},
   "outputs": [],
   "source": [
    "max_review_length = 2000\n",
    "x_data = np.concatenate([x_data1, x_data2], axis=0)\n",
    "y_data = np.concatenate([y_data1, y_data2], axis=0)\n",
    "x_data = pad_sequences(x_data, maxlen=max_review_length,value = 0,padding = 'post', truncating='post')"
   ]
  },
  {
   "cell_type": "code",
   "execution_count": 8,
   "id": "c8a32b22-d168-46f4-b9dd-ec858659cf41",
   "metadata": {},
   "outputs": [
    {
     "name": "stdout",
     "output_type": "stream",
     "text": [
      "(42500, 2000) (6000, 2000) (1500, 2000)\n"
     ]
    }
   ],
   "source": [
    "\n",
    "x_train, x_temp, y_train, y_temp = train_test_split(x_data, y_data, test_size=0.15, random_state=42)\n",
    "x_val, x_test, y_val, y_test = train_test_split(x_temp, y_temp, test_size=0.2, random_state=42)\n",
    "\n",
    "# Проверка размеров выборок\n",
    "print(x_train.shape, x_val.shape, x_test.shape)"
   ]
  },
  {
   "cell_type": "code",
   "execution_count": null,
   "id": "89b3644b-ac0e-4397-a786-a4255d2d5e6f",
   "metadata": {},
   "outputs": [
    {
     "name": "stdout",
     "output_type": "stream",
     "text": [
      "Model: \"sequential\"\n",
      "_________________________________________________________________\n",
      " Layer (type)                Output Shape              Param #   \n",
      "=================================================================\n",
      " embedding (Embedding)       (None, None, 300)         6000000   \n",
      "                                                                 \n",
      " conv1d (Conv1D)             (None, None, 128)         192128    \n",
      "                                                                 \n",
      " global_max_pooling1d (Globa  (None, 128)              0         \n",
      " lMaxPooling1D)                                                  \n",
      "                                                                 \n",
      " dense (Dense)               (None, 10)                1290      \n",
      "                                                                 \n",
      " dense_1 (Dense)             (None, 1)                 11        \n",
      "                                                                 \n",
      "=================================================================\n",
      "Total params: 6,193,429\n",
      "Trainable params: 6,193,429\n",
      "Non-trainable params: 0\n",
      "_________________________________________________________________\n",
      "<class 'numpy.int32'>\n",
      "Epoch 1/10\n",
      "124/333 [==========>...................] - ETA: 3:03 - loss: 0.5220 - accuracy: 0.7518"
     ]
    }
   ],
   "source": [
    "from keras.models import Sequential\n",
    "from keras.layers import Embedding, Conv1D, GlobalMaxPooling1D, Dense\n",
    "\n",
    "embedding_vecor_length = 300\n",
    "# Модель\n",
    "model_cnn = Sequential([\n",
    "    Embedding(input_dim=max_features, output_dim=embedding_vecor_length),\n",
    "    Conv1D(filters=128, kernel_size=5, activation='relu'),\n",
    "    GlobalMaxPooling1D(),\n",
    "    Dense(10, activation='relu'),\n",
    "    Dense(1, activation='sigmoid')\n",
    "])\n",
    "\n",
    "model_cnn.compile(optimizer='adam', loss='binary_crossentropy', metrics=['accuracy'])\n",
    "model_cnn.summary()\n",
    "# Обучение\n",
    "print(type(x_train[0][0]))\n",
    "history_cnn  = model_cnn.fit(\n",
    "    x_train, y_train,\n",
    "    epochs=10,\n",
    "    batch_size=128,verbose =1,validation_data=(x_val,y_val)\n",
    ")\n"
   ]
  },
  {
   "cell_type": "code",
   "execution_count": null,
   "id": "80cf8e87-888a-4a33-9955-5170fc40a34c",
   "metadata": {},
   "outputs": [],
   "source": []
  },
  {
   "cell_type": "markdown",
   "id": "15423c70-1f29-437c-9a66-8ea655dc234b",
   "metadata": {},
   "source": [
    "# Оценка моделей"
   ]
  },
  {
   "cell_type": "code",
   "execution_count": null,
   "id": "a386e910-e4f8-48e5-97f9-b330fc8b2d1e",
   "metadata": {},
   "outputs": [],
   "source": [
    "y_pred_cnn = (model_cnn.predict(x_test) > 0.5).astype(int)"
   ]
  },
  {
   "cell_type": "code",
   "execution_count": null,
   "id": "8b60d763-5c38-4527-be50-f6c0f09344c9",
   "metadata": {},
   "outputs": [],
   "source": [
    "from sklearn.metrics import classification_report, f1_score\n",
    "import matplotlib.pyplot as plt\n",
    "print(\"CNN Classification Report:\")\n",
    "print(classification_report(y_test, y_pred_cnn))\n",
    "plt.plot(history_cnn.history['accuracy'], label='CNN Train Accuracy')\n",
    "plt.plot(history_cnn.history['val_accuracy'], label='CNN Val Accuracy')\n",
    "plt.legend()\n",
    "plt.title('Model Accuracy')\n",
    "plt.show()"
   ]
  },
  {
   "cell_type": "code",
   "execution_count": null,
   "id": "cbc3bd64-177d-43d8-9d45-bd25d5551a5d",
   "metadata": {},
   "outputs": [],
   "source": []
  },
  {
   "cell_type": "code",
   "execution_count": null,
   "id": "6097acd9-2e94-4991-ae62-4ef397d4da46",
   "metadata": {},
   "outputs": [],
   "source": []
  }
 ],
 "metadata": {
  "kernelspec": {
   "display_name": "Python 3 (ipykernel)",
   "language": "python",
   "name": "python3"
  },
  "language_info": {
   "codemirror_mode": {
    "name": "ipython",
    "version": 3
   },
   "file_extension": ".py",
   "mimetype": "text/x-python",
   "name": "python",
   "nbconvert_exporter": "python",
   "pygments_lexer": "ipython3",
   "version": "3.10.13"
  }
 },
 "nbformat": 4,
 "nbformat_minor": 5
}
